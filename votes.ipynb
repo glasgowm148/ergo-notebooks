{
 "cells": [
  {
   "cell_type": "code",
   "execution_count": 115,
   "metadata": {},
   "outputs": [],
   "source": [
    "#pip install pandas\n",
    "import pandas as pd\n",
    "import requests\n",
    "pd.set_option('display.float_format', lambda x: '%.3f' % x)\n",
    "pd.options.display.max_rows = 999"
   ]
  },
  {
   "cell_type": "code",
   "execution_count": 120,
   "metadata": {},
   "outputs": [],
   "source": [
    "import requests\n",
    "\n",
    "url = 'https://api.ergoplatform.com/api/v1/blocks/?limit=500&offset=0'\n",
    "#url = 'http://127.0.0.1:9053/blocks?limit=100&offset=0'\n",
    "r = requests.get(url)\n",
    "\n",
    "json = r.json()\n"
   ]
  },
  {
   "cell_type": "code",
   "execution_count": 121,
   "metadata": {},
   "outputs": [
    {
     "data": {
      "text/plain": [
       "dict_keys(['items', 'total'])"
      ]
     },
     "execution_count": 121,
     "metadata": {},
     "output_type": "execute_result"
    }
   ],
   "source": [
    "# Query the json directly\n",
    "\n",
    "json.keys()\n",
    "#json['items']\n",
    "#json['total']\n",
    "#json"
   ]
  },
  {
   "cell_type": "code",
   "execution_count": 122,
   "metadata": {},
   "outputs": [
    {
     "name": "stdout",
     "output_type": "stream",
     "text": [
      "Indicative voting not set for block..\n",
      "686584 epoch 670\n",
      "686573 epoch 670\n",
      "686571 epoch 670\n",
      "686569 epoch 670\n",
      "686567 epoch 670\n",
      "686562 epoch 670\n",
      "686560 epoch 670\n",
      "686557 epoch 670\n",
      "686556 epoch 670\n",
      "686555 epoch 670\n",
      "686551 epoch 670\n",
      "686544 epoch 670\n",
      "686541 epoch 670\n",
      "686540 epoch 670\n",
      "686539 epoch 670\n",
      "686537 epoch 670\n",
      "686536 epoch 670\n",
      "686532 epoch 670\n",
      "686530 epoch 670\n",
      "686524 epoch 670\n",
      "686522 epoch 670\n",
      "686516 epoch 670\n",
      "686507 epoch 670\n",
      "686502 epoch 670\n",
      "686490 epoch 670\n",
      "686485 epoch 670\n",
      "686478 epoch 670\n",
      "686477 epoch 670\n",
      "686474 epoch 670\n",
      "686471 epoch 670\n",
      "686470 epoch 670\n",
      "686467 epoch 670\n",
      "686454 epoch 670\n",
      "686447 epoch 670\n",
      "686442 epoch 670\n",
      "686438 epoch 670\n",
      "686422 epoch 670\n",
      "686418 epoch 670\n",
      "686411 epoch 670\n",
      "686406 epoch 670\n",
      "686403 epoch 670\n",
      "686402 epoch 670\n",
      "686400 epoch 670\n",
      "686387 epoch 670\n",
      "686380 epoch 670\n",
      "686372 epoch 670\n",
      "686370 epoch 670\n",
      "686361 epoch 670\n",
      "686358 epoch 670\n",
      "686355 epoch 670\n",
      "686348 epoch 670\n",
      "686343 epoch 670\n",
      "686341 epoch 670\n",
      "686338 epoch 670\n",
      "686332 epoch 670\n",
      "686328 epoch 670\n",
      "686327 epoch 670\n",
      "686317 epoch 670\n",
      "686312 epoch 670\n",
      "686303 epoch 670\n",
      "686291 epoch 670\n",
      "686290 epoch 670\n",
      "686286 epoch 670\n",
      "686282 epoch 670\n",
      "686280 epoch 670\n",
      "686254 epoch 670\n",
      "686248 epoch 670\n",
      "686246 epoch 670\n",
      "686241 epoch 670\n",
      "686237 epoch 670\n",
      "686234 epoch 670\n",
      "686232 epoch 670\n",
      "686227 epoch 670\n",
      "686224 epoch 670\n",
      "686197 epoch 670\n",
      "686193 epoch 670\n",
      "686188 epoch 670\n",
      "686186 epoch 670\n",
      "686184 epoch 670\n",
      "686182 epoch 670\n",
      "686180 epoch 670\n",
      "686179 epoch 670\n",
      "686177 epoch 670\n",
      "686162 epoch 670\n",
      "686158 epoch 670\n",
      "686154 epoch 670\n",
      "686145 epoch 670\n",
      "686144 epoch 670\n",
      "686142 epoch 670\n",
      "686131 epoch 670\n",
      "686129 epoch 670\n",
      "686128 epoch 670\n",
      "686116 epoch 670\n",
      "686114 epoch 670\n",
      "686107 epoch 670\n",
      "Yes: 405\n",
      "No: 95\n"
     ]
    }
   ],
   "source": [
    "# load json into a dataframe\n",
    "df = pd.DataFrame(json['items'])\n",
    "df['id']\n",
    "\n",
    "yes = 0\n",
    "no = 0\n",
    "\n",
    "print('Indicative voting not set for block..')\n",
    "for id in df['id']:\n",
    "    url = 'https://api.ergoplatform.com/api/v1/blocks/'+id\n",
    "    r = requests.get(url)\n",
    "    vote_blocks = r.json()\n",
    "    df2 = pd.DataFrame(vote_blocks)\n",
    "    vote = df2['block'][0]['votes']\n",
    "    \n",
    "    if vote[0] == 4:\n",
    "        yes += 1\n",
    "    else:\n",
    "        no += 1\n",
    "        print(df2['block'][0]['height'], 'epoch', df2['block'][0]['epoch'])\n",
    "       \n",
    "\n",
    "print('Yes:', yes)\n",
    "print('No:', no)\n",
    "\n",
    "        \n"
   ]
  },
  {
   "cell_type": "code",
   "execution_count": 108,
   "metadata": {},
   "outputs": [
    {
     "data": {
      "text/plain": [
       "670"
      ]
     },
     "execution_count": 108,
     "metadata": {},
     "output_type": "execute_result"
    }
   ],
   "source": [
    "df2['block'][0]['epoch']\n"
   ]
  },
  {
   "cell_type": "code",
   "execution_count": null,
   "metadata": {},
   "outputs": [],
   "source": []
  }
 ],
 "metadata": {
  "interpreter": {
   "hash": "b0fa6594d8f4cbf19f97940f81e996739fb7646882a419484c72d19e05852a7e"
  },
  "kernelspec": {
   "display_name": "Python 3.9.9 64-bit",
   "language": "python",
   "name": "python3"
  },
  "language_info": {
   "codemirror_mode": {
    "name": "ipython",
    "version": 3
   },
   "file_extension": ".py",
   "mimetype": "text/x-python",
   "name": "python",
   "nbconvert_exporter": "python",
   "pygments_lexer": "ipython3",
   "version": "3.8.9"
  },
  "orig_nbformat": 4
 },
 "nbformat": 4,
 "nbformat_minor": 2
}
