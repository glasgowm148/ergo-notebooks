{
 "cells": [
  {
   "cell_type": "code",
   "execution_count": 2,
   "metadata": {},
   "outputs": [
    {
     "name": "stdout",
     "output_type": "stream",
     "text": [
      "WARNING: pip is being invoked by an old script wrapper. This will fail in a future version of pip.\n",
      "Please see https://github.com/pypa/pip/issues/5599 for advice on fixing the underlying issue.\n",
      "To avoid this problem you can invoke Python with '-m pip' instead of running pip directly.\n",
      "Defaulting to user installation because normal site-packages is not writeable\n",
      "\u001b[31mERROR: Could not find a version that satisfies the requirement urllib2\u001b[0m\n",
      "\u001b[31mERROR: No matching distribution found for urllib2\u001b[0m\n",
      "\u001b[33mWARNING: You are using pip version 21.0.1; however, version 21.1.1 is available.\n",
      "You should consider upgrading via the '/Library/Developer/CommandLineTools/usr/bin/python3 -m pip install --upgrade pip' command.\u001b[0m\n"
     ]
    }
   ],
   "source": [
    "!pip install pandas\n",
    "import pandas as pd\n",
    "import requests\n",
    "pd.set_option('display.float_format', lambda x: '%.3f' % x)"
   ]
  },
  {
   "cell_type": "code",
   "execution_count": 3,
   "metadata": {},
   "outputs": [],
   "source": [
    "# Bearwhale wallet v2 : 9eyXNatnA6YM4tS1TjadEA6TFrd9bdufbFuykV89iX9vE9RBZZe\n",
    "# v1 : 9hyDXH72HoNTiG2pvxFQwxAhWBU8CrbvwtJDtnYoa4jfpaSk1d3\n",
    "target = '9eyXNatnA6YM4tS1TjadEA6TFrd9bdufbFuykV89iX9vE9RBZZe'"
   ]
  },
  {
   "cell_type": "code",
   "execution_count": 4,
   "metadata": {},
   "outputs": [],
   "source": [
    "# API Request\n",
    "url = 'https://api.ergoplatform.com/api/v1/boxes/byAddress/'+target\n",
    "r = requests.get(url)\n",
    "json = r.json()"
   ]
  },
  {
   "cell_type": "code",
   "execution_count": 5,
   "metadata": {},
   "outputs": [],
   "source": [
    "# Query the json directly\n",
    "\n",
    "#json.keys()\n",
    "#json['items']\n",
    "#json['total']\n",
    "#json"
   ]
  },
  {
   "cell_type": "code",
   "execution_count": 6,
   "metadata": {},
   "outputs": [],
   "source": [
    "# load json into a dataframe\n",
    "df = pd.DataFrame(json['items'])"
   ]
  },
  {
   "cell_type": "code",
   "execution_count": null,
   "metadata": {},
   "outputs": [],
   "source": [
    "df.info()\n",
    "\n",
    "# boxId\n",
    "# transactionId - tx id displayed on explorer\n",
    "# blockId\n",
    "# value - unspent \n",
    "# index - ? \n",
    "# creationHeight - time\n",
    "# ergoTree -  0008cd023c166f1ba9de6fdd5ed90a6f15e037b0a9247a...\n",
    "# address - wallet address\n",
    "# assets - tokens\n",
    "# additionalRegisters - sigma? R4\n",
    "# spentTxId\n",
    "# mainChain - main-net - True"
   ]
  },
  {
   "cell_type": "code",
   "execution_count": 7,
   "metadata": {},
   "outputs": [],
   "source": [
    "# Drop unneeded columns\n",
    "df.drop(columns=['mainChain','ergoTree','transactionId','boxId', \n",
    "                 'blockId','address','index',\n",
    "                 'additionalRegisters','spentTransactionId'], inplace=True)"
   ]
  },
  {
   "cell_type": "code",
   "execution_count": 8,
   "metadata": {},
   "outputs": [],
   "source": [
    "# Finding difference\n",
    "df['BalanceChange (ERG)'] = df.value.diff()\n",
    "df['HeightChange (h)'] = df.creationHeight.diff()\n",
    "# nanoErg -> Erg\n",
    "df['value'] = df['value'] / 1000000000\n",
    "df['BalanceChange (ERG)'] = df['BalanceChange (ERG)'] / 1000000000\n",
    "# Track this from geneis block ?\n",
    "df['HeightChange (h)'] = df['HeightChange (h)'] * 2\n",
    "df['HeightChange (h)'] = df['HeightChange (h)'] / 60\n",
    "# Reversing polarity\n",
    "df['BalanceChange (ERG)'] = df['BalanceChange (ERG)'] * -1 \n",
    "df['HeightChange (h)'] = df['HeightChange (h)'] * -1 \n",
    "df['BalanceChange (ERG)'] = df['BalanceChange (ERG)'].shift(-1)\n",
    "df['HeightChange (h)'] = df['HeightChange (h)'].shift(-1)"
   ]
  },
  {
   "cell_type": "code",
   "execution_count": 9,
   "metadata": {},
   "outputs": [],
   "source": [
    "df3 = df['assets'].apply(pd.Series)\n",
    "df4 = df3[0].apply(pd.Series)\n",
    "df4.drop(columns=['tokenId','index','decimals','type', \n",
    "                 ], inplace=True)\n",
    "\n"
   ]
  },
  {
   "cell_type": "code",
   "execution_count": 10,
   "metadata": {},
   "outputs": [
    {
     "data": {
      "text/html": [
       "<div>\n",
       "<style scoped>\n",
       "    .dataframe tbody tr th:only-of-type {\n",
       "        vertical-align: middle;\n",
       "    }\n",
       "\n",
       "    .dataframe tbody tr th {\n",
       "        vertical-align: top;\n",
       "    }\n",
       "\n",
       "    .dataframe thead th {\n",
       "        text-align: right;\n",
       "    }\n",
       "</style>\n",
       "<table border=\"1\" class=\"dataframe\">\n",
       "  <thead>\n",
       "    <tr style=\"text-align: right;\">\n",
       "      <th></th>\n",
       "      <th>Final Balance</th>\n",
       "      <th>creationHeight</th>\n",
       "      <th>BalanceChange (ERG)</th>\n",
       "      <th>HeightChange (h)</th>\n",
       "      <th>0</th>\n",
       "      <th>Sigma</th>\n",
       "      <th>type</th>\n",
       "    </tr>\n",
       "  </thead>\n",
       "  <tbody>\n",
       "    <tr>\n",
       "      <th>0</th>\n",
       "      <td>8396.648</td>\n",
       "      <td>481912</td>\n",
       "      <td>-52939.309</td>\n",
       "      <td>9.267</td>\n",
       "      <td>nan</td>\n",
       "      <td>19991685.000</td>\n",
       "      <td>SigUSD</td>\n",
       "    </tr>\n",
       "    <tr>\n",
       "      <th>1</th>\n",
       "      <td>61335.956</td>\n",
       "      <td>481634</td>\n",
       "      <td>52551.553</td>\n",
       "      <td>10.867</td>\n",
       "      <td>nan</td>\n",
       "      <td>nan</td>\n",
       "      <td>NaN</td>\n",
       "    </tr>\n",
       "    <tr>\n",
       "      <th>2</th>\n",
       "      <td>8784.404</td>\n",
       "      <td>481308</td>\n",
       "      <td>-2754.760</td>\n",
       "      <td>1.400</td>\n",
       "      <td>nan</td>\n",
       "      <td>19364635.000</td>\n",
       "      <td>SigUSD</td>\n",
       "    </tr>\n",
       "    <tr>\n",
       "      <th>3</th>\n",
       "      <td>11539.163</td>\n",
       "      <td>481266</td>\n",
       "      <td>-6278.562</td>\n",
       "      <td>2.033</td>\n",
       "      <td>nan</td>\n",
       "      <td>18325836.000</td>\n",
       "      <td>SigUSD</td>\n",
       "    </tr>\n",
       "    <tr>\n",
       "      <th>4</th>\n",
       "      <td>17817.726</td>\n",
       "      <td>481205</td>\n",
       "      <td>-2913.262</td>\n",
       "      <td>5.100</td>\n",
       "      <td>nan</td>\n",
       "      <td>15969891.000</td>\n",
       "      <td>SigUSD</td>\n",
       "    </tr>\n",
       "    <tr>\n",
       "      <th>5</th>\n",
       "      <td>20730.988</td>\n",
       "      <td>481052</td>\n",
       "      <td>-40237.476</td>\n",
       "      <td>45.300</td>\n",
       "      <td>nan</td>\n",
       "      <td>14887354.000</td>\n",
       "      <td>SigUSD</td>\n",
       "    </tr>\n",
       "    <tr>\n",
       "      <th>6</th>\n",
       "      <td>60968.464</td>\n",
       "      <td>479693</td>\n",
       "      <td>22279.442</td>\n",
       "      <td>26.967</td>\n",
       "      <td>nan</td>\n",
       "      <td>nan</td>\n",
       "      <td>NaN</td>\n",
       "    </tr>\n",
       "    <tr>\n",
       "      <th>7</th>\n",
       "      <td>38689.022</td>\n",
       "      <td>478884</td>\n",
       "      <td>-22367.429</td>\n",
       "      <td>13.000</td>\n",
       "      <td>nan</td>\n",
       "      <td>8008643.000</td>\n",
       "      <td>SigUSD</td>\n",
       "    </tr>\n",
       "    <tr>\n",
       "      <th>8</th>\n",
       "      <td>61056.450</td>\n",
       "      <td>478494</td>\n",
       "      <td>48684.407</td>\n",
       "      <td>9.333</td>\n",
       "      <td>nan</td>\n",
       "      <td>nan</td>\n",
       "      <td>NaN</td>\n",
       "    </tr>\n",
       "    <tr>\n",
       "      <th>9</th>\n",
       "      <td>12372.043</td>\n",
       "      <td>478214</td>\n",
       "      <td>-47952.661</td>\n",
       "      <td>1.767</td>\n",
       "      <td>nan</td>\n",
       "      <td>17536327.000</td>\n",
       "      <td>SigUSD</td>\n",
       "    </tr>\n",
       "    <tr>\n",
       "      <th>10</th>\n",
       "      <td>60324.704</td>\n",
       "      <td>478161</td>\n",
       "      <td>56838.144</td>\n",
       "      <td>22.933</td>\n",
       "      <td>nan</td>\n",
       "      <td>nan</td>\n",
       "      <td>NaN</td>\n",
       "    </tr>\n",
       "    <tr>\n",
       "      <th>11</th>\n",
       "      <td>3486.559</td>\n",
       "      <td>477473</td>\n",
       "      <td>-46087.493</td>\n",
       "      <td>8.833</td>\n",
       "      <td>nan</td>\n",
       "      <td>21005857.000</td>\n",
       "      <td>SigUSD</td>\n",
       "    </tr>\n",
       "    <tr>\n",
       "      <th>12</th>\n",
       "      <td>49574.052</td>\n",
       "      <td>477208</td>\n",
       "      <td>44766.952</td>\n",
       "      <td>5.367</td>\n",
       "      <td>nan</td>\n",
       "      <td>nan</td>\n",
       "      <td>NaN</td>\n",
       "    </tr>\n",
       "    <tr>\n",
       "      <th>13</th>\n",
       "      <td>4807.100</td>\n",
       "      <td>477047</td>\n",
       "      <td>14.596</td>\n",
       "      <td>9036.000</td>\n",
       "      <td>nan</td>\n",
       "      <td>16058563.000</td>\n",
       "      <td>SigUSD</td>\n",
       "    </tr>\n",
       "    <tr>\n",
       "      <th>14</th>\n",
       "      <td>4792.504</td>\n",
       "      <td>205967</td>\n",
       "      <td>540.000</td>\n",
       "      <td>-0.000</td>\n",
       "      <td>nan</td>\n",
       "      <td>nan</td>\n",
       "      <td>NaN</td>\n",
       "    </tr>\n",
       "    <tr>\n",
       "      <th>15</th>\n",
       "      <td>4252.504</td>\n",
       "      <td>205967</td>\n",
       "      <td>nan</td>\n",
       "      <td>nan</td>\n",
       "      <td>nan</td>\n",
       "      <td>nan</td>\n",
       "      <td>NaN</td>\n",
       "    </tr>\n",
       "  </tbody>\n",
       "</table>\n",
       "</div>"
      ],
      "text/plain": [
       "    Final Balance  creationHeight  BalanceChange (ERG)  HeightChange (h)   0  \\\n",
       "0        8396.648          481912           -52939.309             9.267 nan   \n",
       "1       61335.956          481634            52551.553            10.867 nan   \n",
       "2        8784.404          481308            -2754.760             1.400 nan   \n",
       "3       11539.163          481266            -6278.562             2.033 nan   \n",
       "4       17817.726          481205            -2913.262             5.100 nan   \n",
       "5       20730.988          481052           -40237.476            45.300 nan   \n",
       "6       60968.464          479693            22279.442            26.967 nan   \n",
       "7       38689.022          478884           -22367.429            13.000 nan   \n",
       "8       61056.450          478494            48684.407             9.333 nan   \n",
       "9       12372.043          478214           -47952.661             1.767 nan   \n",
       "10      60324.704          478161            56838.144            22.933 nan   \n",
       "11       3486.559          477473           -46087.493             8.833 nan   \n",
       "12      49574.052          477208            44766.952             5.367 nan   \n",
       "13       4807.100          477047               14.596          9036.000 nan   \n",
       "14       4792.504          205967              540.000            -0.000 nan   \n",
       "15       4252.504          205967                  nan               nan nan   \n",
       "\n",
       "          Sigma    type  \n",
       "0  19991685.000  SigUSD  \n",
       "1           nan     NaN  \n",
       "2  19364635.000  SigUSD  \n",
       "3  18325836.000  SigUSD  \n",
       "4  15969891.000  SigUSD  \n",
       "5  14887354.000  SigUSD  \n",
       "6           nan     NaN  \n",
       "7   8008643.000  SigUSD  \n",
       "8           nan     NaN  \n",
       "9  17536327.000  SigUSD  \n",
       "10          nan     NaN  \n",
       "11 21005857.000  SigUSD  \n",
       "12          nan     NaN  \n",
       "13 16058563.000  SigUSD  \n",
       "14          nan     NaN  \n",
       "15          nan     NaN  "
      ]
     },
     "execution_count": 10,
     "metadata": {},
     "output_type": "execute_result"
    }
   ],
   "source": [
    "df = pd.concat([df, df4], axis=1)\n",
    "df.drop(columns=['assets'], inplace=True)\n",
    "df = df.rename(columns={'value': 'Final Balance', 'amount': 'Sigma', 'name': 'type'})\n",
    "df\n"
   ]
  },
  {
   "cell_type": "code",
   "execution_count": 11,
   "metadata": {},
   "outputs": [
    {
     "data": {
      "text/plain": [
       "4144.1438561090035"
      ]
     },
     "execution_count": 11,
     "metadata": {},
     "output_type": "execute_result"
    }
   ],
   "source": [
    "df['BalanceChange (ERG)'].sum()"
   ]
  },
  {
   "cell_type": "code",
   "execution_count": 12,
   "metadata": {},
   "outputs": [
    {
     "data": {
      "text/plain": [
       "428928.286749852"
      ]
     },
     "execution_count": 12,
     "metadata": {},
     "output_type": "execute_result"
    }
   ],
   "source": [
    "df['Final Balance'].sum()"
   ]
  },
  {
   "cell_type": "code",
   "execution_count": null,
   "metadata": {},
   "outputs": [],
   "source": []
  }
 ],
 "metadata": {
  "kernelspec": {
   "display_name": "Python 3",
   "language": "python",
   "name": "python3"
  },
  "language_info": {
   "codemirror_mode": {
    "name": "ipython",
    "version": 3
   },
   "file_extension": ".py",
   "mimetype": "text/x-python",
   "name": "python",
   "nbconvert_exporter": "python",
   "pygments_lexer": "ipython3",
   "version": "3.8.5"
  }
 },
 "nbformat": 4,
 "nbformat_minor": 4
}
